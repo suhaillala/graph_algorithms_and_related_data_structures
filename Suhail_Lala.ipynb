{
 "cells": [
  {
   "cell_type": "markdown",
   "metadata": {
    "collapsed": true,
    "pycharm": {
     "name": "#%% md\n"
    }
   },
   "source": [
    "Problem 1: Single-source Shortest Path"
   ]
  },
  {
   "cell_type": "code",
   "execution_count": 1,
   "outputs": [],
   "source": [
    "import math\n",
    "import collections\n",
    "import heapq\n",
    "\n",
    "def Relax(u, v, w, distance, path, heap):\n",
    "    if distance[v] > distance[u] + int(w):\n",
    "        distance[v] = distance[u] + int(w)\n",
    "        path[v] = ' >- ' + u + path[u]\n",
    "        heapq.heappush(heap, (distance[v], v))\n",
    "\n",
    "def Dijkstra(G, s):\n",
    "    # Initialization\n",
    "    distance = {}\n",
    "    path = collections.defaultdict(str)\n",
    "    heap = []\n",
    "    for vertex in G.keys():\n",
    "        distance[vertex] = math.inf\n",
    "    distance[s] = 0\n",
    "    heapq.heappush(heap, (distance[s], s))\n",
    "\n",
    "    # Dijkstra Algorithm\n",
    "    S = []\n",
    "    while heap:\n",
    "        cost, u = heapq.heappop(heap)\n",
    "        if u not in S:\n",
    "            S += u\n",
    "            for cost, v in G[u]:\n",
    "                Relax(u, v, cost, distance, path, heap)\n",
    "\n",
    "    # Print output\n",
    "    print('Source: ' + s)\n",
    "    for vertex in G.keys():\n",
    "        print('Path: ' + path[vertex][::-1] + vertex)\n",
    "        print('Path Cost: ' + str(distance[vertex]) + '\\n')"
   ],
   "metadata": {
    "collapsed": false,
    "pycharm": {
     "name": "#%%\n"
    }
   }
  },
  {
   "cell_type": "markdown",
   "source": [
    "Problem 2: Minimum Spanning Tree"
   ],
   "metadata": {
    "collapsed": false,
    "pycharm": {
     "name": "#%% md\n"
    }
   }
  },
  {
   "cell_type": "code",
   "execution_count": 2,
   "outputs": [],
   "source": [
    "def MST_Prim(G, s):\n",
    "    # Initialization\n",
    "    key = {}\n",
    "    tree = []\n",
    "    heap = []\n",
    "    for vertex in G.keys():\n",
    "        key[vertex] = math.inf\n",
    "    key[s] = 0\n",
    "    heapq.heappush(heap, (key[s], '', s))\n",
    "\n",
    "    # Prims Algorithm\n",
    "    S = []\n",
    "    while heap:\n",
    "        cost, par, u = heapq.heappop(heap)\n",
    "        if u not in S:\n",
    "            S += u\n",
    "            tree.append(par + ' - ' + u)\n",
    "            for cost, v in G[u]:\n",
    "                if int(cost) < key[v] and v not in S:\n",
    "                    key[v] = int(cost)\n",
    "                    heapq.heappush(heap, (key[v], u, v))\n",
    "\n",
    "    # Print output\n",
    "    print('Source: ' + s)\n",
    "    print('Tree Edges:', end=' ')\n",
    "    print(tree[1:])\n",
    "    print('MST Cost: ' + str(sum(key.values())) + '\\n')\n",
    "\n",
    "def solution(file_name, problem=None):\n",
    "    # Load file\n",
    "    text = open(file_name, \"r\").readlines()\n",
    "    e = []\n",
    "    for i, line in enumerate(text):\n",
    "        if i == 0: type = line.split()[2]\n",
    "        elif i == len(text)-1: s = line\n",
    "        else: e.append(line.split())\n",
    "\n",
    "    # Create graph\n",
    "    graph = collections.defaultdict(set)\n",
    "    for u, v, cost in e:\n",
    "        if type == 'D':\n",
    "            graph[u].add((cost, v))\n",
    "        else:\n",
    "            graph[u].add((cost, v))\n",
    "            graph[v].add((cost, u))\n",
    "\n",
    "    if problem == 'MST': MST_Prim(graph, s)\n",
    "    else: Dijkstra(graph, s)"
   ],
   "metadata": {
    "collapsed": false,
    "pycharm": {
     "name": "#%%\n"
    }
   }
  },
  {
   "cell_type": "markdown",
   "source": [
    "Program Execution: Single-source Shortest Path"
   ],
   "metadata": {
    "collapsed": false,
    "pycharm": {
     "name": "#%% md\n"
    }
   }
  },
  {
   "cell_type": "code",
   "execution_count": 3,
   "outputs": [
    {
     "name": "stdout",
     "output_type": "stream",
     "text": [
      "Source: A\n",
      "Path: A\n",
      "Path Cost: 0\n",
      "\n",
      "Path: A -> B\n",
      "Path Cost: 1\n",
      "\n",
      "Path: A -> C\n",
      "Path Cost: 2\n",
      "\n",
      "Path: A -> C -> D\n",
      "Path Cost: 3\n",
      "\n",
      "Path: A -> B -> E\n",
      "Path Cost: 3\n",
      "\n",
      "Path: A -> C -> D -> F\n",
      "Path Cost: 6\n",
      "\n"
     ]
    }
   ],
   "source": [
    "solution(\"Undirected Graph/Input1.txt\")"
   ],
   "metadata": {
    "collapsed": false,
    "pycharm": {
     "name": "#%%\n"
    }
   }
  },
  {
   "cell_type": "code",
   "execution_count": 4,
   "outputs": [
    {
     "name": "stdout",
     "output_type": "stream",
     "text": [
      "Source: A\n",
      "Path: A\n",
      "Path Cost: 0\n",
      "\n",
      "Path: A -> B\n",
      "Path Cost: 5\n",
      "\n",
      "Path: A -> H\n",
      "Path Cost: 7\n",
      "\n",
      "Path: A -> F\n",
      "Path Cost: 13\n",
      "\n",
      "Path: A -> B -> C\n",
      "Path Cost: 15\n",
      "\n",
      "Path: A -> F -> G\n",
      "Path Cost: 17\n",
      "\n",
      "Path: A -> B -> E\n",
      "Path Cost: 8\n",
      "\n",
      "Path: A -> B -> E -> D\n",
      "Path Cost: 24\n",
      "\n"
     ]
    }
   ],
   "source": [
    "solution(\"Undirected Graph/Input2.txt\")"
   ],
   "metadata": {
    "collapsed": false,
    "pycharm": {
     "name": "#%%\n"
    }
   }
  },
  {
   "cell_type": "code",
   "execution_count": 5,
   "outputs": [
    {
     "name": "stdout",
     "output_type": "stream",
     "text": [
      "Source: A\n",
      "Path: A\n",
      "Path Cost: 0\n",
      "\n",
      "Path: A -> B\n",
      "Path Cost: 5\n",
      "\n",
      "Path: A -> H\n",
      "Path Cost: 9\n",
      "\n",
      "Path: A -> B -> C\n",
      "Path Cost: 14\n",
      "\n",
      "Path: A -> H -> I\n",
      "Path Cost: 17\n",
      "\n",
      "Path: A -> B -> C -> D\n",
      "Path Cost: 22\n",
      "\n",
      "Path: A -> H -> I -> G\n",
      "Path Cost: 24\n",
      "\n",
      "Path: A -> B -> C -> F\n",
      "Path Cost: 19\n",
      "\n",
      "Path: A -> B -> C -> F -> E\n",
      "Path Cost: 30\n",
      "\n"
     ]
    }
   ],
   "source": [
    "solution(\"Undirected Graph/Input3.txt\")"
   ],
   "metadata": {
    "collapsed": false,
    "pycharm": {
     "name": "#%%\n"
    }
   }
  },
  {
   "cell_type": "code",
   "execution_count": 6,
   "outputs": [
    {
     "name": "stdout",
     "output_type": "stream",
     "text": [
      "Source: A\n",
      "Path: A\n",
      "Path Cost: 0\n",
      "\n",
      "Path: A -> B\n",
      "Path Cost: 2\n",
      "\n",
      "Path: A -> B -> G\n",
      "Path Cost: 5\n",
      "\n",
      "Path: A -> B -> D\n",
      "Path Cost: 10\n",
      "\n",
      "Path: A -> F\n",
      "Path Cost: 11\n",
      "\n",
      "Path: A -> B -> E\n",
      "Path Cost: 8\n",
      "\n",
      "Path: A -> C\n",
      "Path Cost: 4\n",
      "\n"
     ]
    }
   ],
   "source": [
    "solution(\"Undirected Graph/Input4.txt\")"
   ],
   "metadata": {
    "collapsed": false,
    "pycharm": {
     "name": "#%%\n"
    }
   }
  },
  {
   "cell_type": "code",
   "execution_count": 7,
   "outputs": [
    {
     "name": "stdout",
     "output_type": "stream",
     "text": [
      "Source: A\n",
      "Path: A\n",
      "Path Cost: 0\n",
      "\n",
      "Path: A -> B\n",
      "Path Cost: 3\n",
      "\n",
      "Path: A -> D -> C\n",
      "Path Cost: 5\n",
      "\n",
      "Path: A -> D\n",
      "Path Cost: 2\n",
      "\n",
      "Path: A -> D -> E\n",
      "Path Cost: 5\n",
      "\n",
      "Path: A -> D -> G\n",
      "Path Cost: 7\n",
      "\n",
      "Path: A -> D -> G -> F\n",
      "Path Cost: 9\n",
      "\n"
     ]
    }
   ],
   "source": [
    "solution(\"Directed Graph/Input1.txt\")"
   ],
   "metadata": {
    "collapsed": false,
    "pycharm": {
     "name": "#%%\n"
    }
   }
  },
  {
   "cell_type": "code",
   "execution_count": 8,
   "outputs": [
    {
     "name": "stdout",
     "output_type": "stream",
     "text": [
      "Source: A\n",
      "Path: A\n",
      "Path Cost: 0\n",
      "\n",
      "Path: A -> C\n",
      "Path Cost: 8\n",
      "\n",
      "Path: A -> B\n",
      "Path Cost: 3\n",
      "\n",
      "Path: A -> C -> E\n",
      "Path Cost: 11\n",
      "\n",
      "Path: A -> B -> D -> F\n",
      "Path Cost: 9\n",
      "\n",
      "Path: A -> B -> D -> F -> G\n",
      "Path Cost: 12\n",
      "\n",
      "Path: A -> B -> D\n",
      "Path Cost: 6\n",
      "\n"
     ]
    }
   ],
   "source": [
    "solution(\"Directed Graph/Input2.txt\")"
   ],
   "metadata": {
    "collapsed": false,
    "pycharm": {
     "name": "#%%\n"
    }
   }
  },
  {
   "cell_type": "code",
   "execution_count": 9,
   "outputs": [
    {
     "name": "stdout",
     "output_type": "stream",
     "text": [
      "Source: S\n",
      "Path: S\n",
      "Path Cost: 0\n",
      "\n",
      "Path: S -> A\n",
      "Path Cost: 4\n",
      "\n",
      "Path: S -> A -> C\n",
      "Path Cost: 7\n",
      "\n",
      "Path: S -> B\n",
      "Path Cost: 5\n",
      "\n",
      "Path: S -> A -> C -> F\n",
      "Path Cost: 9\n",
      "\n",
      "Path: S -> A -> C -> F -> E\n",
      "Path Cost: 14\n",
      "\n",
      "Path: S -> A -> C -> F -> T\n",
      "Path Cost: 15\n",
      "\n"
     ]
    }
   ],
   "source": [
    "solution(\"Directed Graph/Input3.txt\")"
   ],
   "metadata": {
    "collapsed": false,
    "pycharm": {
     "name": "#%%\n"
    }
   }
  },
  {
   "cell_type": "code",
   "execution_count": 10,
   "outputs": [
    {
     "name": "stdout",
     "output_type": "stream",
     "text": [
      "Source: D\n",
      "Path: D -> G -> A\n",
      "Path Cost: 60\n",
      "\n",
      "Path: D -> G -> A -> B\n",
      "Path Cost: 90\n",
      "\n",
      "Path: D -> C -> F\n",
      "Path Cost: 80\n",
      "\n",
      "Path: D\n",
      "Path Cost: 0\n",
      "\n",
      "Path: D -> G\n",
      "Path Cost: 30\n",
      "\n",
      "Path: D -> G -> E\n",
      "Path Cost: 43\n",
      "\n",
      "Path: D -> C\n",
      "Path Cost: 20\n",
      "\n"
     ]
    }
   ],
   "source": [
    "solution(\"Directed Graph/Input4.txt\")"
   ],
   "metadata": {
    "collapsed": false,
    "pycharm": {
     "name": "#%%\n"
    }
   }
  },
  {
   "cell_type": "markdown",
   "source": [
    "Program Execution: Minimum Spanning Tree"
   ],
   "metadata": {
    "collapsed": false
   }
  },
  {
   "cell_type": "code",
   "execution_count": 11,
   "outputs": [
    {
     "name": "stdout",
     "output_type": "stream",
     "text": [
      "Source: A\n",
      "Tree Edges: ['A - B', 'B - C', 'C - D', 'B - E', 'D - F']\n",
      "MST Cost: 8\n",
      "\n"
     ]
    }
   ],
   "source": [
    "solution(\"Undirected Graph/Input1.txt\", problem='MST')"
   ],
   "metadata": {
    "collapsed": false,
    "pycharm": {
     "name": "#%%\n"
    }
   }
  },
  {
   "cell_type": "code",
   "execution_count": 12,
   "outputs": [
    {
     "name": "stdout",
     "output_type": "stream",
     "text": [
      "Source: A\n",
      "Tree Edges: ['A - B', 'B - E', 'B - H', 'E - F', 'F - G', 'B - C', 'E - D']\n",
      "MST Cost: 53\n",
      "\n"
     ]
    }
   ],
   "source": [
    "solution(\"Undirected Graph/Input2.txt\", problem='MST')"
   ],
   "metadata": {
    "collapsed": false,
    "pycharm": {
     "name": "#%%\n"
    }
   }
  },
  {
   "cell_type": "code",
   "execution_count": 13,
   "outputs": [
    {
     "name": "stdout",
     "output_type": "stream",
     "text": [
      "Source: A\n",
      "Tree Edges: ['A - B', 'A - H', 'H - I', 'I - C', 'C - F', 'I - G', 'C - D', 'D - E']\n",
      "MST Cost: 55\n",
      "\n"
     ]
    }
   ],
   "source": [
    "solution(\"Undirected Graph/Input3.txt\", problem='MST')"
   ],
   "metadata": {
    "collapsed": false,
    "pycharm": {
     "name": "#%%\n"
    }
   }
  },
  {
   "cell_type": "code",
   "execution_count": 14,
   "outputs": [
    {
     "name": "stdout",
     "output_type": "stream",
     "text": [
      "Source: A\n",
      "Tree Edges: ['A - B', 'B - C', 'B - G', 'C - E', 'E - D', 'D - F']\n",
      "MST Cost: 16\n",
      "\n"
     ]
    }
   ],
   "source": [
    "solution(\"Undirected Graph/Input4.txt\", problem='MST')"
   ],
   "metadata": {
    "collapsed": false,
    "pycharm": {
     "name": "#%%\n"
    }
   }
  }
 ],
 "metadata": {
  "kernelspec": {
   "display_name": "Python 3",
   "language": "python",
   "name": "python3"
  },
  "language_info": {
   "codemirror_mode": {
    "name": "ipython",
    "version": 2
   },
   "file_extension": ".py",
   "mimetype": "text/x-python",
   "name": "python",
   "nbconvert_exporter": "python",
   "pygments_lexer": "ipython2",
   "version": "2.7.6"
  }
 },
 "nbformat": 4,
 "nbformat_minor": 0
}